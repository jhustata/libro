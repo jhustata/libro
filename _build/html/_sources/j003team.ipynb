{
 "cells": [
  {
   "cell_type": "markdown",
   "metadata": {},
   "source": [
    "Your Instructor     \n",
    "   + Abimereki Muzaale muzaale@jhmi.edu     \n",
    "     \n",
    "Teaching Assistants     \n",
    "   + Ning Meng nmeng2@jh.edu\n",
    "   + Monica Jia hjia11@jhu.edu\n",
    "   + Xujun Gu xgu23@jhmi.edu  "
   ]
  }
 ],
 "metadata": {
  "kernelspec": {
   "display_name": "Python 3",
   "language": "python",
   "name": "python3"
  },
  "language_info": {
   "codemirror_mode": {
    "name": "ipython",
    "version": 3
   },
   "file_extension": ".py",
   "mimetype": "text/x-python",
   "name": "python",
   "nbconvert_exporter": "python",
   "pygments_lexer": "ipython3",
   "version": "3.11.2"
  },
  "widgets": {
   "application/vnd.jupyter.widget-state+json": {
    "state": {},
    "version_major": 2,
    "version_minor": 0
   }
  }
 },
 "nbformat": 4,
 "nbformat_minor": 4
}
