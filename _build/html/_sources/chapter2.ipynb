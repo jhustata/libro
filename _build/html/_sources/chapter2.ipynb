{
 "cells": [
  {
   "cell_type": "markdown",
   "metadata": {},
   "source": [
    "# Session 2: Twoway"
   ]
  },
  {
   "cell_type": "code",
   "execution_count": 22,
   "metadata": {
    "tags": [
     "hide-input"
    ]
   },
   "outputs": [
    {
     "ename": "PermissionError",
     "evalue": "[Errno 1] Operation not permitted",
     "output_type": "error",
     "traceback": [
      "\u001b[0;31m---------------------------------------------------------------------------\u001b[0m",
      "\u001b[0;31mPermissionError\u001b[0m                           Traceback (most recent call last)",
      "Cell \u001b[0;32mIn[22], line 1\u001b[0m\n\u001b[0;32m----> 1\u001b[0m \u001b[39mimport\u001b[39;00m \u001b[39mseaborn\u001b[39;00m \u001b[39mas\u001b[39;00m \u001b[39msns\u001b[39;00m\n\u001b[1;32m      2\u001b[0m \u001b[39mimport\u001b[39;00m \u001b[39mstatsmodels\u001b[39;00m\u001b[39m.\u001b[39;00m\u001b[39mapi\u001b[39;00m \u001b[39mas\u001b[39;00m \u001b[39msm\u001b[39;00m\n\u001b[1;32m      3\u001b[0m \u001b[39mfrom\u001b[39;00m \u001b[39msklearn\u001b[39;00m\u001b[39m.\u001b[39;00m\u001b[39mmetrics\u001b[39;00m \u001b[39mimport\u001b[39;00m mean_squared_error\n",
      "File \u001b[0;32m<frozen importlib._bootstrap>:1178\u001b[0m, in \u001b[0;36m_find_and_load\u001b[0;34m(name, import_)\u001b[0m\n",
      "File \u001b[0;32m<frozen importlib._bootstrap>:1140\u001b[0m, in \u001b[0;36m_find_and_load_unlocked\u001b[0;34m(name, import_)\u001b[0m\n",
      "File \u001b[0;32m<frozen importlib._bootstrap>:1080\u001b[0m, in \u001b[0;36m_find_spec\u001b[0;34m(name, path, target)\u001b[0m\n",
      "File \u001b[0;32m<frozen importlib._bootstrap_external>:1504\u001b[0m, in \u001b[0;36mfind_spec\u001b[0;34m(cls, fullname, path, target)\u001b[0m\n",
      "File \u001b[0;32m<frozen importlib._bootstrap_external>:1473\u001b[0m, in \u001b[0;36m_get_spec\u001b[0;34m(cls, fullname, path, target)\u001b[0m\n",
      "File \u001b[0;32m<frozen importlib._bootstrap_external>:1431\u001b[0m, in \u001b[0;36m_path_importer_cache\u001b[0;34m(cls, path)\u001b[0m\n",
      "\u001b[0;31mPermissionError\u001b[0m: [Errno 1] Operation not permitted"
     ]
    }
   ],
   "source": [
    "import seaborn as sns\n",
    "import statsmodels.api as sm\n",
    "from sklearn.metrics import mean_squared_error\n",
    "import pandas as pd\n",
    "import matplotlib.pyplot as plt\n",
    "import numpy as np\n",
    "import requests\n",
    "import io\n",
    "\n",
    "# Load the data from the URL using requests\n",
    "url = 'https://raw.githubusercontent.com/jhustata/livre/main/transplants.txt'\n",
    "response = requests.get(url)\n",
    "content = response.content.decode('utf-8')\n",
    "file = io.StringIO(content)\n",
    "data = pd.read_csv(file, sep='\\t')\n",
    "\n",
    "# Extract the 'age' and 'don_wgt_kg' columns\n",
    "age = data['age']\n",
    "weight = data['don_wgt_kg']\n",
    "\n",
    "# Run a simple linear regression to get the parameters\n",
    "X = sm.add_constant(age)  # adding a constant (intercept term) to the model\n",
    "model = sm.OLS(weight, X).fit()\n",
    "beta0 = model.params[0]\n",
    "beta1 = model.params[1]\n",
    "\n",
    "# Compute the Root Mean Squared Error (RMSE)\n",
    "y_true = weight\n",
    "y_pred = model.predict(X)\n",
    "rmse = np.sqrt(mean_squared_error(y_true, y_pred))\n",
    "\n",
    "# Calculate the predicted weight at age 40\n",
    "age_40 = 40\n",
    "weight_40 = beta0 + beta1 * age_40\n",
    "\n",
    "# Calculate the upper and lower bounds of the error bar\n",
    "error = 1.96 * rmse\n",
    "\n",
    "# Create a figure and axis\n",
    "fig, ax = plt.subplots()\n",
    "\n",
    "# Generate a scatter plot\n",
    "sns.scatterplot(x=age, y=weight, color='lime', ax=ax)\n",
    "\n",
    "# Generate a regression line\n",
    "sns.regplot(x=age, y=weight, scatter=False, color='yellow', ax=ax)\n",
    "\n",
    "# Add the error bar\n",
    "ax.errorbar(age_40, weight_40, yerr=error, fmt='o', color='orange', mec='blue', mfc='blue', label='Error Bar', capsize=5)\n",
    "\n",
    "# Adding text for beta0, beta1, error term, and RMSE\n",
    "formula = f'Weight = {beta0:.2f} + {beta1:.2f}*Age + $\\\\epsilon_i$'\n",
    "params = f'$\\\\beta_0$: {beta0:.2f}\\n$\\\\beta_1$: {beta1:.2f}\\n$\\\\epsilon_i$: error term\\n'\n",
    "ax.text(0.02, 0.88, formula + '\\n\\n' + params + '\\n\\n', transform=ax.transAxes, verticalalignment='top')\n",
    "\n",
    "# Styling\n",
    "plt.title('Age vs Weight Scatter Plot with Regression Line')\n",
    "plt.xlabel('Age, years')\n",
    "plt.ylabel('Weight, kg')\n",
    "\n",
    "# Save the figure\n",
    "plt.savefig('age_weight_scatterplot.png')\n",
    "plt.show()"
   ]
  }
 ],
 "metadata": {
  "kernelspec": {
   "display_name": "Python 3",
   "language": "python",
   "name": "python3"
  },
  "language_info": {
   "codemirror_mode": {
    "name": "ipython",
    "version": 3
   },
   "file_extension": ".py",
   "mimetype": "text/x-python",
   "name": "python",
   "nbconvert_exporter": "python",
   "pygments_lexer": "ipython3",
   "version": "3.11.2"
  },
  "widgets": {
   "application/vnd.jupyter.widget-state+json": {
    "state": {},
    "version_major": 2,
    "version_minor": 0
   }
  }
 },
 "nbformat": 4,
 "nbformat_minor": 4
}
