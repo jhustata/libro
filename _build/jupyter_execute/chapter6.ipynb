{
 "cells": [
  {
   "cell_type": "markdown",
   "metadata": {},
   "source": [
    "# Session 6: Case Study\n",
    "\n",
    "This week is dedicated to a hands-on session where you get to apply the concepts you've learned so far to a real-world case study. We will provide a dataset related to clinical investigation and guide you on how to perform one-way, two-way, and multivariable analyses, hierarchical models. \n",
    "\n",
    "0. Importing datafile\n",
    "    + Local\n",
    "    + Remote\n",
    "    + Both (Merging)\n",
    "    + Simulation\n",
    "\n",
    "1. Dimension of datafile:\n",
    "    + Rows (No. of Obs)\n",
    "    + Columns (No. of Vars)\n",
    "    + Sampling (Rows & Columns)\n",
    "\n",
    "2. Work Mode\n",
    "    + Interactive\n",
    "    + Batch\n",
    "    + Remote Desktop"
   ]
  }
 ],
 "metadata": {
  "kernelspec": {
   "display_name": "Python 3",
   "language": "python",
   "name": "python3"
  },
  "language_info": {
   "codemirror_mode": {
    "name": "ipython",
    "version": 3
   },
   "file_extension": ".py",
   "mimetype": "text/x-python",
   "name": "python",
   "nbconvert_exporter": "python",
   "pygments_lexer": "ipython3",
   "version": "3.11.2"
  },
  "widgets": {
   "application/vnd.jupyter.widget-state+json": {
    "state": {},
    "version_major": 2,
    "version_minor": 0
   }
  }
 },
 "nbformat": 4,
 "nbformat_minor": 4
}