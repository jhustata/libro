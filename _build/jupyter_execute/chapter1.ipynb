{
 "cells": [
  {
   "cell_type": "markdown",
   "metadata": {},
   "source": [
    "# Session 1: Oneway"
   ]
  },
  {
   "cell_type": "markdown",
   "metadata": {},
   "source": []
  },
  {
   "cell_type": "code",
   "execution_count": 1,
   "metadata": {},
   "outputs": [
    {
     "ename": "NameError",
     "evalue": "name 'age' is not defined",
     "output_type": "error",
     "traceback": [
      "\u001b[0;31m---------------------------------------------------------------------------\u001b[0m",
      "\u001b[0;31mNameError\u001b[0m                                 Traceback (most recent call last)",
      "Cell \u001b[0;32mIn[1], line 16\u001b[0m\n\u001b[1;32m     14\u001b[0m \u001b[38;5;66;03m# Extract relevant columns\u001b[39;00m\n\u001b[1;32m     15\u001b[0m bmi \u001b[38;5;241m=\u001b[39m data[\u001b[38;5;124m'\u001b[39m\u001b[38;5;124mage\u001b[39m\u001b[38;5;124m'\u001b[39m]\n\u001b[0;32m---> 16\u001b[0m x \u001b[38;5;241m=\u001b[39m [\u001b[38;5;241m1\u001b[39m] \u001b[38;5;241m*\u001b[39m \u001b[38;5;28mlen\u001b[39m(\u001b[43mage\u001b[49m)\n\u001b[1;32m     18\u001b[0m \u001b[38;5;66;03m# Calculate mean and standard deviation\u001b[39;00m\n\u001b[1;32m     19\u001b[0m mean_age \u001b[38;5;241m=\u001b[39m age\u001b[38;5;241m.\u001b[39mmean()\n",
      "\u001b[0;31mNameError\u001b[0m: name 'age' is not defined"
     ]
    }
   ],
   "source": [
    "import pandas as pd\n",
    "import matplotlib.pyplot as plt\n",
    "import numpy as np\n",
    "import requests\n",
    "import io \n",
    "\n",
    "# Load the data from the URL using requests\n",
    "url = 'https://raw.githubusercontent.com/jhustata/livre/main/transplants.txt'\n",
    "response = requests.get(url)\n",
    "content = response.content.decode('utf-8')\n",
    "file = io.StringIO(content)\n",
    "data = pd.read_csv(file, sep='\\t')\n",
    "\n",
    "# Extract relevant columns\n",
    "bmi = data['age']\n",
    "x = [1] * len(age)\n",
    "\n",
    "# Calculate mean and standard deviation\n",
    "mean_age = age.mean()\n",
    "std_age = age.std()\n",
    "\n",
    "# Calculate upper and lower bounds for 95% confidence interval\n",
    "ub = mean_age + std_age * 1.96\n",
    "lb = mean_age - std_age * 1.96\n",
    "\n",
    "# Add jitter to x-axis values\n",
    "x_jitter = x + np.random.normal(0, 0.02, size=len(x))\n",
    "\n",
    "# Scatter plot of age with increased jitter\n",
    "plt.scatter(x_jitter, age, c='lime', alpha=0.5)\n",
    "\n",
    "# Mean point\n",
    "plt.scatter(1, mean_age, c='blue', s=25)\n",
    "\n",
    "# Confidence interval with thicker line\n",
    "plt.errorbar(1, mean_age, yerr=[[mean_age - lb], [ub - mean_age]], color='orange', linewidth=2)\n",
    "\n",
    "# Styling\n",
    "plt.ylabel('Realism, %')\n",
    "plt.title('Mean & 95% CI')\n",
    "plt.text(1.01, mean_age, r'$\\beta_0$', va='center', fontsize=24)\n",
    "plt.xticks([])\n",
    "plt.grid(True)\n",
    "\n",
    "# Save the figure\n",
    "plt.savefig('age_m_95ci.png')\n",
    "plt.show()"
   ]
  }
 ],
 "metadata": {
  "kernelspec": {
   "display_name": "Python 3",
   "language": "python",
   "name": "python3"
  },
  "language_info": {
   "codemirror_mode": {
    "name": "ipython",
    "version": 3
   },
   "file_extension": ".py",
   "mimetype": "text/x-python",
   "name": "python",
   "nbconvert_exporter": "python",
   "pygments_lexer": "ipython3",
   "version": "3.11.2"
  },
  "widgets": {
   "application/vnd.jupyter.widget-state+json": {
    "state": {},
    "version_major": 2,
    "version_minor": 0
   }
  }
 },
 "nbformat": 4,
 "nbformat_minor": 4
}