{
 "cells": [
  {
   "cell_type": "markdown",
   "metadata": {},
   "source": [
    "+ preface/`approach`\n",
    "   + beyond good & evil\n",
    "   + you're either better\n",
    "   + or the fraud is better\n",
    "   + in fact you can't see fraud\n",
    "   + unless you surpass the fraudster\n",
    "+ reality/`problem`\n",
    "   + the source of our livelihood and misery\n",
    "   + we seek to better understand it, tame it, utilize it\n",
    "   + sentinel systems, data collection mechanisms, transmission, storage\n",
    "+ encode/`concepts`\n",
    "   + oneway\n",
    "   + twoway\n",
    "   + multivariable\n",
    "   + hierarchical\n",
    "   + pairs\n",
    "      + python\n",
    "      + ai\n",
    "      + r\n",
    "      + stata\n",
    "+ code/`technical`: dimentionality reduction from c(N) & c(k) -> r(mean), r(sd) (for stata), xxx for r, xxx for python\n",
    "   + nonparametric\n",
    "      + central tendency\n",
    "      + spread\n",
    "      + p\n",
    "   + parametric\n",
    "      + central tendency\n",
    "      + spread\n",
    "      + p\n",
    "   + semiparametric\n",
    "      + central tendency\n",
    "      + spread\n",
    "      + p\n",
    "+ decode/`application`\n",
    "   + only parametric\n",
    "   + can 'reproduce' original data\n",
    "   + we call that simulation \n",
    "   + random parametric distribution\n",
    "\n",
    "+ fake/`simulation`\n",
    "   + mastery of this process\n",
    "   + can be used for representation\n",
    "   + but can also be used to beguile \n",
    "   + also used for encryption and transmission\n",
    "   + portability of information with privacy\n",
    "   + grant applications or policy decision\n",
    "   + in lieu of data or with limited data\n",
    "   + missing data methods and imputation "
   ]
  }
 ],
 "metadata": {
  "kernelspec": {
   "display_name": "Python 3",
   "language": "python",
   "name": "python3"
  },
  "language_info": {
   "codemirror_mode": {
    "name": "ipython",
    "version": 3
   },
   "file_extension": ".py",
   "mimetype": "text/x-python",
   "name": "python",
   "nbconvert_exporter": "python",
   "pygments_lexer": "ipython3",
   "version": "3.11.2"
  },
  "widgets": {
   "application/vnd.jupyter.widget-state+json": {
    "state": {},
    "version_major": 2,
    "version_minor": 0
   }
  }
 },
 "nbformat": 4,
 "nbformat_minor": 4
}