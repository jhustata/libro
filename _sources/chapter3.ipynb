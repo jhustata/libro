{
 "cells": [
  {
   "cell_type": "markdown",
   "metadata": {},
   "source": [
    "# Session 3: Multivariable\n",
    "\n",
    "I'm not aware of any non-parametric approach suited for this task. And therefore, we are going to employ parametric or semi-parametric methods for this chapter.\n",
    "\n",
    "Multivariable analysis typically involves working with multiple independent variables to understand their impact on a dependent variable. Often, we use parametric methods for this analysis as they provide a useful framework when the assumptions of these methods are met. However, in cases where the assumptions of parametric methods are not met, semi-parametric methods can be helpful. Unfortunately, non-parametric methods are not well-suited for multivariable analysis due to their limitations in handling multiple independent variables. In this chapter, we'll focus on parametric and semi-parametric methods, exploring how they can be used in Stata  \n"
   ]
  }
 ],
 "metadata": {
  "kernelspec": {
   "display_name": "Python 3",
   "language": "python",
   "name": "python3"
  },
  "language_info": {
   "codemirror_mode": {
    "name": "ipython",
    "version": 3
   },
   "file_extension": ".py",
   "mimetype": "text/x-python",
   "name": "python",
   "nbconvert_exporter": "python",
   "pygments_lexer": "ipython3",
   "version": "3.11.2"
  },
  "widgets": {
   "application/vnd.jupyter.widget-state+json": {
    "state": {},
    "version_major": 2,
    "version_minor": 0
   }
  }
 },
 "nbformat": 4,
 "nbformat_minor": 4
}
