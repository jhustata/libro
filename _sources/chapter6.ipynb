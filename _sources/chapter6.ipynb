{
 "cells": [
  {
   "cell_type": "markdown",
   "metadata": {},
   "source": [
    "# Session 6: Application & Case Studies\n",
    "\n",
    "This week could be dedicated to hands-on sessions where students apply the concepts they've learned so far to real-world case studies. You can provide datasets related to different fields (like economics, epidemiology, social sciences, etc.) and guide students on how to perform one-way, two-way, and multivariable analyses, hierarchical models etc. This will not only reinforce the concepts taught but also expose students to practical applications of Stata programming."
   ]
  }
 ],
 "metadata": {
  "kernelspec": {
   "display_name": "Python 3",
   "language": "python",
   "name": "python3"
  },
  "language_info": {
   "codemirror_mode": {
    "name": "ipython",
    "version": 3
   },
   "file_extension": ".py",
   "mimetype": "text/x-python",
   "name": "python",
   "nbconvert_exporter": "python",
   "pygments_lexer": "ipython3",
   "version": "3.8.0"
  },
  "widgets": {
   "application/vnd.jupyter.widget-state+json": {
    "state": {},
    "version_major": 2,
    "version_minor": 0
   }
  }
 },
 "nbformat": 4,
 "nbformat_minor": 4
}
